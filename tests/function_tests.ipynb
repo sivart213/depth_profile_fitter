{
 "cells": [
  {
   "cell_type": "code",
   "execution_count": 6,
   "metadata": {},
   "outputs": [],
   "source": [
    "import abc\n",
    "import warnings\n",
    "import numpy as np\n",
    "import pandas as pd\n",
    "\n",
    "import matplotlib.pyplot as plt\n",
    "import seaborn as sns\n",
    "\n",
    "from scipy.special import erfc\n",
    "from scipy import stats\n",
    "from sklearn import metrics\n",
    "from functools import partial\n",
    "from scipy.optimize import curve_fit\n",
    "\n",
    "import research_tools as rt"
   ]
  },
  {
   "cell_type": "code",
   "execution_count": 2,
   "metadata": {},
   "outputs": [],
   "source": [
    "temp_val = rt.convert_temp(0, \"C\", \"K\")\n"
   ]
  },
  {
   "cell_type": "code",
   "execution_count": 9,
   "metadata": {},
   "outputs": [
    {
     "name": "stdout",
     "output_type": "stream",
     "text": [
      "50.0\n"
     ]
    }
   ],
   "source": [
    "import research_tools.functions.unit_conversion as uc\n",
    "test_len = uc.Length(5, \"cm\")\n",
    "print(test_len.mm)"
   ]
  },
  {
   "cell_type": "code",
   "execution_count": 11,
   "metadata": {},
   "outputs": [],
   "source": [
    "line_matrix = rt.line(np.linspace(0,10,11), 2, 5)"
   ]
  },
  {
   "cell_type": "code",
   "execution_count": 23,
   "metadata": {},
   "outputs": [],
   "source": [
    "import re\n",
    "import unicodedata\n",
    "def nameify(value, allow_unicode=False):\n",
    "    \"\"\"\n",
    "    Taken from https://github.com/django/django/blob/master/django/utils/text.py.\n",
    "\n",
    "    Convert to ASCII if 'allow_unicode' is False. Convert spaces or repeated\n",
    "    dashes to single dashes. Remove characters that aren't alphanumerics,\n",
    "    underscores, or hyphens. Convert to lowercase. Also strip leading and\n",
    "    trailing whitespace, dashes, and underscores.\n",
    "    \"\"\"\n",
    "    value = str(value)\n",
    "    if allow_unicode:\n",
    "        value = unicodedata.normalize(\"NFKC\", value)\n",
    "    else:\n",
    "        value = (\n",
    "            unicodedata.normalize(\"NFKD\", value)\n",
    "            .encode(\"ascii\", \"ignore\")\n",
    "            .decode(\"ascii\")\n",
    "            )\n",
    "    value = re.sub(r\"[^\\w\\s-]\", \"\", value.lower())\n",
    "    return re.sub(r\"[-\\s]+\", \"_\", value).strip(\"-_\")\n",
    "\n"
   ]
  },
  {
   "cell_type": "code",
   "execution_count": 37,
   "metadata": {},
   "outputs": [
    {
     "name": "stdout",
     "output_type": "stream",
     "text": [
      "namify version:  this_is_my_test_str\n",
      "slugify version:  this_is_my_test_str\n"
     ]
    }
   ],
   "source": [
    "test_str = \"This is my-test @ str\"\n",
    "\n",
    "print(\"namify version: \", nameify(test_str))\n",
    "print(\"slugify version: \", rt.slugify(test_str, sep=\"_\"))"
   ]
  },
  {
   "cell_type": "code",
   "execution_count": 32,
   "metadata": {},
   "outputs": [],
   "source": [
    "test_str_alt1 = (\n",
    "            unicodedata.normalize(\"NFKD\", test_str)\n",
    "            .encode(\"ascii\", \"ignore\")\n",
    "            .decode(\"ascii\")\n",
    "            )\n",
    "test_str_alt2 = re.sub(\"[^\\w\\s-]\", \"\", test_str_alt1.lower())\n",
    "test_str_alt3 = re.sub(\"[-\\s]+\", \"_\", test_str_alt2).strip(\"-_\")"
   ]
  },
  {
   "cell_type": "code",
   "execution_count": 48,
   "metadata": {},
   "outputs": [],
   "source": [
    "mypath = rt.pathify(\"work\", \"Data\", \"Analysis\", \"SIMS\")\n",
    "my_path = rt.p_find(\"Dropbox (ASU)\", \"Work Docs\", \"Data\", \"Analysis\", \"SIMS\",  base=\"home\")"
   ]
  },
  {
   "cell_type": "code",
   "execution_count": 44,
   "metadata": {},
   "outputs": [
    {
     "data": {
      "text/plain": [
       "False"
      ]
     },
     "execution_count": 44,
     "metadata": {},
     "output_type": "execute_result"
    }
   ],
   "source": [
    "my_path.exists()"
   ]
  }
 ],
 "metadata": {
  "kernelspec": {
   "display_name": "rt_env",
   "language": "python",
   "name": "python3"
  },
  "language_info": {
   "codemirror_mode": {
    "name": "ipython",
    "version": 3
   },
   "file_extension": ".py",
   "mimetype": "text/x-python",
   "name": "python",
   "nbconvert_exporter": "python",
   "pygments_lexer": "ipython3",
   "version": "3.12.3"
  }
 },
 "nbformat": 4,
 "nbformat_minor": 2
}
